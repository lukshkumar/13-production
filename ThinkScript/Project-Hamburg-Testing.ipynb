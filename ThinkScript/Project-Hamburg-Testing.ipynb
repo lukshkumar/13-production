{
 "cells": [
  {
   "cell_type": "code",
   "execution_count": 17,
   "metadata": {},
   "outputs": [],
   "source": [
    "import pandas as pd\n",
    "import os"
   ]
  },
  {
   "cell_type": "code",
   "execution_count": 50,
   "metadata": {},
   "outputs": [],
   "source": [
    "df = pd.read_csv(\"20080102.csv\")"
   ]
  },
  {
   "cell_type": "code",
   "execution_count": 51,
   "metadata": {},
   "outputs": [
    {
     "data": {
      "text/html": [
       "<div>\n",
       "<style scoped>\n",
       "    .dataframe tbody tr th:only-of-type {\n",
       "        vertical-align: middle;\n",
       "    }\n",
       "\n",
       "    .dataframe tbody tr th {\n",
       "        vertical-align: top;\n",
       "    }\n",
       "\n",
       "    .dataframe thead th {\n",
       "        text-align: right;\n",
       "    }\n",
       "</style>\n",
       "<table border=\"1\" class=\"dataframe\">\n",
       "  <thead>\n",
       "    <tr style=\"text-align: right;\">\n",
       "      <th></th>\n",
       "      <th>Date</th>\n",
       "      <th>Timestamp</th>\n",
       "      <th>Ticker</th>\n",
       "      <th>OpenPrice</th>\n",
       "      <th>HighPrice</th>\n",
       "      <th>LowPrice</th>\n",
       "      <th>ClosePrice</th>\n",
       "      <th>TotalVolume</th>\n",
       "      <th>TotalQuantity</th>\n",
       "      <th>TotalTradeCount</th>\n",
       "    </tr>\n",
       "  </thead>\n",
       "  <tbody>\n",
       "    <tr>\n",
       "      <th>0</th>\n",
       "      <td>20080102</td>\n",
       "      <td>09:32:00</td>\n",
       "      <td>HNZ</td>\n",
       "      <td>46.50</td>\n",
       "      <td>46.57</td>\n",
       "      <td>46.43</td>\n",
       "      <td>46.54</td>\n",
       "      <td>637716.0</td>\n",
       "      <td>13700.0</td>\n",
       "      <td>37</td>\n",
       "    </tr>\n",
       "    <tr>\n",
       "      <th>1</th>\n",
       "      <td>20080102</td>\n",
       "      <td>09:33:00</td>\n",
       "      <td>HNZ</td>\n",
       "      <td>46.60</td>\n",
       "      <td>46.60</td>\n",
       "      <td>46.45</td>\n",
       "      <td>46.49</td>\n",
       "      <td>185966.5</td>\n",
       "      <td>4000.0</td>\n",
       "      <td>20</td>\n",
       "    </tr>\n",
       "    <tr>\n",
       "      <th>2</th>\n",
       "      <td>20080102</td>\n",
       "      <td>09:34:00</td>\n",
       "      <td>HNZ</td>\n",
       "      <td>46.48</td>\n",
       "      <td>46.48</td>\n",
       "      <td>46.44</td>\n",
       "      <td>46.44</td>\n",
       "      <td>83633.0</td>\n",
       "      <td>1800.0</td>\n",
       "      <td>15</td>\n",
       "    </tr>\n",
       "    <tr>\n",
       "      <th>3</th>\n",
       "      <td>20080102</td>\n",
       "      <td>09:35:00</td>\n",
       "      <td>HNZ</td>\n",
       "      <td>46.38</td>\n",
       "      <td>46.41</td>\n",
       "      <td>46.31</td>\n",
       "      <td>46.31</td>\n",
       "      <td>278109.0</td>\n",
       "      <td>6000.0</td>\n",
       "      <td>33</td>\n",
       "    </tr>\n",
       "    <tr>\n",
       "      <th>4</th>\n",
       "      <td>20080102</td>\n",
       "      <td>09:36:00</td>\n",
       "      <td>HNZ</td>\n",
       "      <td>46.32</td>\n",
       "      <td>46.33</td>\n",
       "      <td>46.29</td>\n",
       "      <td>46.29</td>\n",
       "      <td>231517.0</td>\n",
       "      <td>5000.0</td>\n",
       "      <td>35</td>\n",
       "    </tr>\n",
       "  </tbody>\n",
       "</table>\n",
       "</div>"
      ],
      "text/plain": [
       "       Date Timestamp Ticker  OpenPrice  HighPrice  LowPrice  ClosePrice  \\\n",
       "0  20080102  09:32:00    HNZ      46.50      46.57     46.43       46.54   \n",
       "1  20080102  09:33:00    HNZ      46.60      46.60     46.45       46.49   \n",
       "2  20080102  09:34:00    HNZ      46.48      46.48     46.44       46.44   \n",
       "3  20080102  09:35:00    HNZ      46.38      46.41     46.31       46.31   \n",
       "4  20080102  09:36:00    HNZ      46.32      46.33     46.29       46.29   \n",
       "\n",
       "   TotalVolume  TotalQuantity  TotalTradeCount  \n",
       "0     637716.0        13700.0               37  \n",
       "1     185966.5         4000.0               20  \n",
       "2      83633.0         1800.0               15  \n",
       "3     278109.0         6000.0               33  \n",
       "4     231517.0         5000.0               35  "
      ]
     },
     "execution_count": 51,
     "metadata": {},
     "output_type": "execute_result"
    }
   ],
   "source": [
    "df.head()"
   ]
  },
  {
   "cell_type": "code",
   "execution_count": 52,
   "metadata": {},
   "outputs": [],
   "source": [
    "df['OpenPrice'] = df['OpenPrice'] / 10"
   ]
  },
  {
   "cell_type": "code",
   "execution_count": 53,
   "metadata": {},
   "outputs": [
    {
     "data": {
      "text/html": [
       "<div>\n",
       "<style scoped>\n",
       "    .dataframe tbody tr th:only-of-type {\n",
       "        vertical-align: middle;\n",
       "    }\n",
       "\n",
       "    .dataframe tbody tr th {\n",
       "        vertical-align: top;\n",
       "    }\n",
       "\n",
       "    .dataframe thead th {\n",
       "        text-align: right;\n",
       "    }\n",
       "</style>\n",
       "<table border=\"1\" class=\"dataframe\">\n",
       "  <thead>\n",
       "    <tr style=\"text-align: right;\">\n",
       "      <th></th>\n",
       "      <th>Date</th>\n",
       "      <th>Timestamp</th>\n",
       "      <th>Ticker</th>\n",
       "      <th>OpenPrice</th>\n",
       "      <th>HighPrice</th>\n",
       "      <th>LowPrice</th>\n",
       "      <th>ClosePrice</th>\n",
       "      <th>TotalVolume</th>\n",
       "      <th>TotalQuantity</th>\n",
       "      <th>TotalTradeCount</th>\n",
       "    </tr>\n",
       "  </thead>\n",
       "  <tbody>\n",
       "    <tr>\n",
       "      <th>0</th>\n",
       "      <td>20080102</td>\n",
       "      <td>09:32:00</td>\n",
       "      <td>HNZ</td>\n",
       "      <td>4.650</td>\n",
       "      <td>46.57</td>\n",
       "      <td>46.43</td>\n",
       "      <td>46.54</td>\n",
       "      <td>637716.0</td>\n",
       "      <td>13700.0</td>\n",
       "      <td>37</td>\n",
       "    </tr>\n",
       "    <tr>\n",
       "      <th>1</th>\n",
       "      <td>20080102</td>\n",
       "      <td>09:33:00</td>\n",
       "      <td>HNZ</td>\n",
       "      <td>4.660</td>\n",
       "      <td>46.60</td>\n",
       "      <td>46.45</td>\n",
       "      <td>46.49</td>\n",
       "      <td>185966.5</td>\n",
       "      <td>4000.0</td>\n",
       "      <td>20</td>\n",
       "    </tr>\n",
       "    <tr>\n",
       "      <th>2</th>\n",
       "      <td>20080102</td>\n",
       "      <td>09:34:00</td>\n",
       "      <td>HNZ</td>\n",
       "      <td>4.648</td>\n",
       "      <td>46.48</td>\n",
       "      <td>46.44</td>\n",
       "      <td>46.44</td>\n",
       "      <td>83633.0</td>\n",
       "      <td>1800.0</td>\n",
       "      <td>15</td>\n",
       "    </tr>\n",
       "    <tr>\n",
       "      <th>3</th>\n",
       "      <td>20080102</td>\n",
       "      <td>09:35:00</td>\n",
       "      <td>HNZ</td>\n",
       "      <td>4.638</td>\n",
       "      <td>46.41</td>\n",
       "      <td>46.31</td>\n",
       "      <td>46.31</td>\n",
       "      <td>278109.0</td>\n",
       "      <td>6000.0</td>\n",
       "      <td>33</td>\n",
       "    </tr>\n",
       "    <tr>\n",
       "      <th>4</th>\n",
       "      <td>20080102</td>\n",
       "      <td>09:36:00</td>\n",
       "      <td>HNZ</td>\n",
       "      <td>4.632</td>\n",
       "      <td>46.33</td>\n",
       "      <td>46.29</td>\n",
       "      <td>46.29</td>\n",
       "      <td>231517.0</td>\n",
       "      <td>5000.0</td>\n",
       "      <td>35</td>\n",
       "    </tr>\n",
       "  </tbody>\n",
       "</table>\n",
       "</div>"
      ],
      "text/plain": [
       "       Date Timestamp Ticker  OpenPrice  HighPrice  LowPrice  ClosePrice  \\\n",
       "0  20080102  09:32:00    HNZ      4.650      46.57     46.43       46.54   \n",
       "1  20080102  09:33:00    HNZ      4.660      46.60     46.45       46.49   \n",
       "2  20080102  09:34:00    HNZ      4.648      46.48     46.44       46.44   \n",
       "3  20080102  09:35:00    HNZ      4.638      46.41     46.31       46.31   \n",
       "4  20080102  09:36:00    HNZ      4.632      46.33     46.29       46.29   \n",
       "\n",
       "   TotalVolume  TotalQuantity  TotalTradeCount  \n",
       "0     637716.0        13700.0               37  \n",
       "1     185966.5         4000.0               20  \n",
       "2      83633.0         1800.0               15  \n",
       "3     278109.0         6000.0               33  \n",
       "4     231517.0         5000.0               35  "
      ]
     },
     "execution_count": 53,
     "metadata": {},
     "output_type": "execute_result"
    }
   ],
   "source": [
    "df.head()"
   ]
  },
  {
   "cell_type": "code",
   "execution_count": 25,
   "metadata": {},
   "outputs": [
    {
     "name": "stdout",
     "output_type": "stream",
     "text": [
      "['$SPX.X.csv', '.ipynb_checkpoints', '20080102.csv', 'A.csv', 'AgriERP RFF.lnk', 'AgriERP-FinOps-BC.lnk', 'A_Z_code_testing_quicksight_project.ipynb', 'Backup', 'BackUp2', 'Blast', 'Blast-BackUp.ipynb', 'Blast-Tickers.csv', 'Blast.ipynb', 'CSVs', 'DailyDataExtractionTDAmeritrade.ipynb', 'Data', 'desktop.ini', 'Documents', 'DocuScan Product.lnk', 'DocuScan Python App.lnk', 'DocuScan RFF.lnk', 'DocuScan SF.lnk', 'Folio3 General.lnk', 'Folio3 Projects.lnk', 'Important Snapshots', 'J-Dot - Shortcut.lnk', 'JSON_Files', 'Luksh.JPG', 'Masters.lnk', 'Personal.lnk', 'Project Hamburg - Production.lnk', 'Project Hamburg.lnk', 'RemoteToLocalSync.bat', 'RFF OCR.lnk', 'SF-Recent-Ticket', 'Temporay.ipynb', 'Test.csv', 'ThinkScript-To-Python.ipynb', 'Tickers', 'Tickers-Data.zip', 'Tickers-Minute-Data', 'Untitled.ipynb', 'Warehouse App.lnk']\n"
     ]
    }
   ],
   "source": [
    "df = pd.read_csv(\"20080102.csv\")\n",
    "files_in_data_by_ticker_folder = os.listdir()\n",
    "print(files_in_data_by_ticker_folder)"
   ]
  },
  {
   "cell_type": "code",
   "execution_count": 26,
   "metadata": {},
   "outputs": [
    {
     "name": "stdout",
     "output_type": "stream",
     "text": [
      "A.csv\n",
      "found\n"
     ]
    }
   ],
   "source": [
    "df_today_file = df.groupby('Ticker')\n",
    "for group_name, group_df in df_today_file:\n",
    "    ticker_csv_filename = group_name + \".csv\"\n",
    "    print(ticker_csv_filename)\n",
    "    if(ticker_csv_filename in files_in_data_by_ticker_folder):\n",
    "        print(\"found\")\n",
    "        group_df.to_csv(ticker_csv_filename, mode = 'a', index = False, header = False)\n",
    "    else:\n",
    "        group_df.to_csv(ticker_csv_filename, index = False)\n",
    "    break "
   ]
  },
  {
   "cell_type": "code",
   "execution_count": 31,
   "metadata": {},
   "outputs": [
    {
     "name": "stdout",
     "output_type": "stream",
     "text": [
      "dict_items([('d', 2), ('g', 1), ('a', 3), ('b', 3), ('t', 2)])\n",
      "Checking a in 3\n",
      "Checking b in 3\n",
      "Checking d in 2\n",
      "Checking t in 2\n",
      "Checking g in 1\n"
     ]
    }
   ],
   "source": [
    "files = {\"d\":2, \"g\":1, \"a\":3, \"b\":3, \"t\":2}\n",
    "print(files.items())\n",
    "for key, file_dir in sorted(list(files.items()), key=lambda x:x[1], reverse=True):\n",
    "    print (\"Checking {0} in {1}\".format(key, file_dir))"
   ]
  },
  {
   "cell_type": "code",
   "execution_count": 49,
   "metadata": {},
   "outputs": [
    {
     "name": "stdout",
     "output_type": "stream",
     "text": [
      "t\n",
      "2\n",
      "b\n",
      "3\n",
      "a\n",
      "3\n",
      "g\n",
      "1\n",
      "d\n",
      "2\n"
     ]
    }
   ],
   "source": [
    "date_and_ratio_data = list(files.items())\n",
    "for i in range(len(date_and_ratio_data) - 1, -1, -1):\n",
    "    print(date_and_ratio_data[i][0])\n",
    "    print(date_and_ratio_data[i][1])\n"
   ]
  },
  {
   "cell_type": "code",
   "execution_count": null,
   "metadata": {},
   "outputs": [],
   "source": []
  }
 ],
 "metadata": {
  "kernelspec": {
   "display_name": "Python 3",
   "language": "python",
   "name": "python3"
  },
  "language_info": {
   "codemirror_mode": {
    "name": "ipython",
    "version": 3
   },
   "file_extension": ".py",
   "mimetype": "text/x-python",
   "name": "python",
   "nbconvert_exporter": "python",
   "pygments_lexer": "ipython3",
   "version": "3.7.6"
  }
 },
 "nbformat": 4,
 "nbformat_minor": 4
}
