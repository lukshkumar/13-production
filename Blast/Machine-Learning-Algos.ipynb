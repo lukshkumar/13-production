{
  "nbformat": 4,
  "nbformat_minor": 0,
  "metadata": {
    "colab": {
      "provenance": []
    },
    "kernelspec": {
      "name": "python3",
      "display_name": "Python 3"
    },
    "language_info": {
      "name": "python"
    }
  },
  "cells": [
    {
      "cell_type": "code",
      "source": [],
      "metadata": {
        "id": "llC2QW7zzwbs"
      },
      "execution_count": null,
      "outputs": []
    },
    {
      "cell_type": "code",
      "source": [
        "import csv\n",
        "import numpy as np\n",
        "import pandas as pd\n",
        "from sklearn.linear_model import LinearRegression\n",
        "from sklearn.model_selection import train_test_split\n",
        "\n",
        "# Load the CSV file\n",
        "df_all = pd.read_csv('content/Data Merge Problem ChatGPT Query_format1.csv')\n",
        "\n",
        "df = df_all[df_all['Index'] >= 10]\n",
        "#print(df)\n",
        "# Extract the relevant columns from the data excluding Nan values\n",
        "#data_1 = df[['Data_1', 'Data_1_2MA', 'Data_1_5MA', 'Data_1_10MA']]\n",
        "#data_2 = df[['Data_2', 'Data_2_2MA', 'Data_2_5MA', 'Data_2_10MA']]\n",
        "\n",
        "# Split the data into training and test sets \n",
        "train_df = df[df['Index'] < 21]\n",
        "test_df = df[df['Index'] >= 21]\n",
        "\n",
        "#print(data_1)\n",
        "#print(data_2)\n",
        "\n",
        "# Split the data into training and test sets excluding Nan values\n",
        "#X_train, X_test, y_train, y_test = train_test_split(data_1, data_2, test_size=0.2, random_state=42)\n",
        "\n",
        "#Train the model using the data from dataset 1\n",
        "X_train = train_df[['Data_1','Data_1_2MA','Data_1_5MA', 'Data_1_10MA']]\n",
        "y_train = train_df[['Data_2']]\n",
        "\n",
        "#Test the model using the data from dataset 2\n",
        "X_test = test_df[['Data_1','Data_1_2MA','Data_1_5MA', 'Data_1_10MA']]\n",
        "y_test = test_df[['Data_2']]\n",
        "\n",
        "#print(X_train)\n",
        "#print(y_train)\n",
        "\n",
        "# Create a linear regression model\n",
        "reg = LinearRegression().fit(X_train, y_train)\n",
        "\n",
        "# Use the trained model to predict the values for dataset 2 from index 21 to 42 for Data_2, Data_2_2MA, Data_2_5MA, and Data_2_10MA \n",
        "predictions = reg.predict(X_test)\n",
        "\n",
        "# Print the predictions in a new df\n",
        "pred_df = pd.DataFrame(predictions, columns=['Data_2'])\n",
        "\n",
        "test_df = test_df.reset_index(drop = True)\n",
        "test_df[\"Data_2\"] = pred_df[\"Data_2\"]\n",
        "#test_df[\"Data_2_2MA\"] = pred_df[\"Data_2_2MA\"]\n",
        "#test_df[\"Data_2_5MA\"] = pred_df[\"Data_2_5MA\"]\n",
        "#test_df[\"Data_2_10MA\"] = pred_df[\"Data_2_10MA\"]\n",
        "\n",
        "\n",
        "# To predict for the empty index 21 to 42, use the same reg.predict() method on the appropriate data\n",
        "#for example:\n",
        "#empty_index = df[['Data_1', 'Data_1_2MA', 'Data_1_5MA', 'Data_1_10MA']].iloc[20:42]\n",
        "#predictions_21_42 = reg.predict(empty_index)\n",
        "#pred_df_21_42 = pd.DataFrame(predictions_21_42, columns=['Data_2', 'Data_2_2MA', 'Data_2_5MA', 'Data_2_10MA'])\n",
        "#print(pred_df_21_42)\n",
        "test_df = pd.concat([df_all[df_all['Index'] < 21], test_df], axis = 0, ignore_index = True)\n",
        "test_df\n",
        "test_df.to_csv(\"Result.csv\")"
      ],
      "metadata": {
        "id": "RYcVSNR6Bh8Z"
      },
      "execution_count": 6,
      "outputs": []
    },
    {
      "cell_type": "code",
      "source": [
        "import csv\n",
        "import numpy as np\n",
        "import pandas as pd\n",
        "from sklearn.linear_model import LinearRegression\n",
        "from sklearn.model_selection import train_test_split\n",
        "from sklearn.ensemble import RandomForestRegressor\n",
        "\n",
        "# Load the CSV file\n",
        "df_all = pd.read_csv('content/Data Merge Problem ChatGPT Query_format1.csv')\n",
        "\n",
        "df = df_all[df_all['Index'] >= 10]\n",
        "#print(df)\n",
        "# Extract the relevant columns from the data excluding Nan values\n",
        "#data_1 = df[['Data_1', 'Data_1_2MA', 'Data_1_5MA', 'Data_1_10MA']]\n",
        "#data_2 = df[['Data_2', 'Data_2_2MA', 'Data_2_5MA', 'Data_2_10MA']]\n",
        "\n",
        "# Split the data into training and test sets \n",
        "train_df = df[df['Index'] < 21]\n",
        "test_df = df[df['Index'] >= 21]\n",
        "\n",
        "#print(data_1)\n",
        "#print(data_2)\n",
        "\n",
        "# Split the data into training and test sets excluding Nan values\n",
        "#X_train, X_test, y_train, y_test = train_test_split(data_1, data_2, test_size=0.2, random_state=42)\n",
        "\n",
        "#Train the model using the data from dataset 1\n",
        "X_train = train_df[['Data_1','Data_1_2MA','Data_1_5MA', 'Data_1_10MA']]\n",
        "y_train = train_df[['Data_2']]\n",
        "\n",
        "#Test the model using the data from dataset 2\n",
        "X_test = test_df[['Data_1','Data_1_2MA','Data_1_5MA', 'Data_1_10MA']]\n",
        "y_test = test_df[['Data_2']]\n",
        "\n",
        "#print(X_train)\n",
        "#print(y_train)\n",
        "\n",
        "model = RandomForestRegressor()\n",
        "\n",
        "# Create a linear regression model\n",
        "model.fit(X_train, y_train)\n",
        "\n",
        "# Use the trained model to predict the values for dataset 2 from index 21 to 42 for Data_2, Data_2_2MA, Data_2_5MA, and Data_2_10MA \n",
        "predictions = model.predict(X_test)\n",
        "\n",
        "# Print the predictions in a new df\n",
        "pred_df = pd.DataFrame(predictions, columns=['Data_2'])\n",
        "\n",
        "test_df = test_df.reset_index(drop = True)\n",
        "test_df[\"Data_2\"] = pred_df[\"Data_2\"]\n",
        "#test_df[\"Data_2_2MA\"] = pred_df[\"Data_2_2MA\"]\n",
        "#test_df[\"Data_2_5MA\"] = pred_df[\"Data_2_5MA\"]\n",
        "#test_df[\"Data_2_10MA\"] = pred_df[\"Data_2_10MA\"]\n",
        "\n",
        "\n",
        "# To predict for the empty index 21 to 42, use the same reg.predict() method on the appropriate data\n",
        "#for example:\n",
        "#empty_index = df[['Data_1', 'Data_1_2MA', 'Data_1_5MA', 'Data_1_10MA']].iloc[20:42]\n",
        "#predictions_21_42 = reg.predict(empty_index)\n",
        "#pred_df_21_42 = pd.DataFrame(predictions_21_42, columns=['Data_2', 'Data_2_2MA', 'Data_2_5MA', 'Data_2_10MA'])\n",
        "#print(pred_df_21_42)\n",
        "test_df = pd.concat([df_all[df_all['Index'] < 21], test_df], axis = 0, ignore_index = True)\n",
        "test_df\n",
        "test_df.to_csv(\"Result.csv\")"
      ],
      "metadata": {
        "id": "qbJNJlgIBiIC",
        "colab": {
          "base_uri": "https://localhost:8080/"
        },
        "outputId": "8bdc8551-fcce-4cfc-c414-2f63fa508abe"
      },
      "execution_count": 8,
      "outputs": [
        {
          "output_type": "stream",
          "name": "stderr",
          "text": [
            "<ipython-input-8-51dfe78d51e9>:41: DataConversionWarning: A column-vector y was passed when a 1d array was expected. Please change the shape of y to (n_samples,), for example using ravel().\n",
            "  model.fit(X_train, y_train)\n"
          ]
        }
      ]
    },
    {
      "cell_type": "code",
      "source": [],
      "metadata": {
        "id": "mqcnbocckNSW"
      },
      "execution_count": null,
      "outputs": []
    }
  ]
}